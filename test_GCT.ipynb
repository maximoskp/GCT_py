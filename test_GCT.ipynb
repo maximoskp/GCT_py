{
 "cells": [
  {
   "cell_type": "code",
   "execution_count": 2,
   "metadata": {},
   "outputs": [],
   "source": [
    "from GeneralChordType.HARM_consonanceChordRecognizer_func import HARM_consonanceChordRecognizer"
   ]
  },
  {
   "cell_type": "code",
   "execution_count": 3,
   "metadata": {},
   "outputs": [
    {
     "name": "stdout",
     "output_type": "stream",
     "text": [
      "[[0, [0, 4, 7], [10]]]\n"
     ]
    }
   ],
   "source": [
    "# typical dominant 7th chord\n",
    "c = [0,4,7,10]\n",
    "gct = HARM_consonanceChordRecognizer(c)\n",
    "print(gct)"
   ]
  },
  {
   "cell_type": "code",
   "execution_count": 4,
   "metadata": {},
   "outputs": [
    {
     "name": "stdout",
     "output_type": "stream",
     "text": [
      "[[3, [0, 3, 7], [9]]]\n"
     ]
    }
   ],
   "source": [
    "# half diminished chord is rendered as its relative major sixth\n",
    "c = [0,3,6,10]\n",
    "gct = HARM_consonanceChordRecognizer(c)\n",
    "print(gct)"
   ]
  }
 ],
 "metadata": {
  "kernelspec": {
   "display_name": "torch",
   "language": "python",
   "name": "python3"
  },
  "language_info": {
   "codemirror_mode": {
    "name": "ipython",
    "version": 3
   },
   "file_extension": ".py",
   "mimetype": "text/x-python",
   "name": "python",
   "nbconvert_exporter": "python",
   "pygments_lexer": "ipython3",
   "version": "3.11.6"
  }
 },
 "nbformat": 4,
 "nbformat_minor": 2
}
